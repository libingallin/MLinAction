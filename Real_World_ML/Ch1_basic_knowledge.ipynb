{
 "cells": [
  {
   "cell_type": "markdown",
   "metadata": {},
   "source": [
    "# 机器学习基础知识"
   ]
  },
  {
   "cell_type": "markdown",
   "metadata": {},
   "source": [
    "如果计算机程序对于某个任务，它的性能能够通过可计算的值进行衡量，并能通过经验得到提高，我们就称之为学习。—— 汤姆·米契尔\n",
    "\n",
    "机器学习的训练是指知识的特殊形式和相互关联的一套技术。\n",
    "\n",
    "对于某类任务T和性能度量P，如果一个计算机程序在T上以P衡量的性能能随着经验E而自我完善，那么我们就称这个计算机程序从经验E学习。\n",
    "\n",
    "---\n",
    "\n",
    "### 监督机制机器学习应用案例\n",
    "\n",
    "|**Problem**|**Description**|**Example use cases**|\n",
    "| :- | :- | :----- |\n",
    "|**分类**|基于输入确定每个输入所属的分类|垃圾邮件过滤、情感分析、欺诈检测、客户广告定位、流失预测、支持案例标记、内容个性化、制造缺陷检测、客户细分、事件发现、基因学、药效学|\n",
    "|**回归**|记忆输入预测每个输入的实际输出|股票市场预测、需求预测、价格估计、广告竞价优化、风险管理、资产管理、天气预报、优育预测|\n",
    "|**推荐(Recommendation)**|预测用户喜欢的方案|产品推荐(product recommendation)、工作招聘(job recruiting)、Netflix Prize、在线约会(online dating)、内容推荐(content recommendation)|\n",
    "|**插补(Imputation)**|对于缺失的数据推断其价值|不完整的医疗记录(incomplete patient medical records)、客户数据缺失(missing customer data)、人口数据普查(census data)|\n",
    "\n",
    "All these drawbacks can be traced to a single debilitating weakness in a business rules approach: the system doesn't automatically learn from data.  \n",
    "Data-driven system, from simple statistical models to more-sophisticated machine learning workflows, can overcome these problems.\n",
    "\n",
    "所有商业规则方法的缺陷可归结为一个弱点：规则系统不能从数据中自动学习。  \n",
    "数据驱动的系统，从简单的统计学模型到复杂的机器学习都可克服这些问题。\n",
    "\n",
    "---\n",
    "\n",
    "输入数据有一系列数值或分类指标组成。\n",
    "\n",
    "---\n",
    "\n",
    "### Log odds(对数几率)\n",
    "\n",
    "The **[odds ratio](https://en.wikipedia.org/wiki/Odds_ratio)** is one way of expressing probability. You've undoubtedly heared someone say that a (favorite) team's chance of winning is 3 to 1. **Odds** are the probability of success (for example, winning) divided by the probability of failure (losing). Mathematically, this can be expressed as follows:\n",
    "\n",
    "$$Odds(A) = P(A) / P(~A) = The\\  probability\\ of\\ A\\ divided\\ by\\ the\\ probability\\ of\\ not\\ A$$\n",
    "\n",
    "So 3-to-1 odds is equivalent to $0.75/0.25=3$ and $log(3)=0.47712$\n",
    "\n",
    "If A were a fair coin toss(硬币), the odds of heads would be $0.5 / 0.5 = 1$, $log(1) =0$. It turns out that the $log(Odds)$ can take on any real-valued number. A log odds value near $-\\infty$ denotes a highly unlikely event(不可能事件). A value near $+\\infty$ indicates near certainty(确定发生), and $log(1) = 0$ indicates an even random change(随机事件). \n",
    "\n",
    "Using log-odds instead of regular probability is a mathematical trick(数学技巧) that makes certain computation easier, because unlike probabilities, they're not limited to values between 0 and 1.\n",
    "\n",
    "----\n",
    "\n",
    "线性算法有有一些特性吸引人：很容易解释和推理，计算速度快且非常适合于大数据处理。\n",
    "\n",
    "\n",
    "![ML workflow](https://github.com/libingallin/MLinAction/blob/master/Real_World_ML/1.PNG)\n",
    "\n",
    "\n",
    "### Optimizing model performance(模型性能优化)\n",
    "\n",
    "achieve better model accuarcy in three model:\n",
    "+ **Tuning the model parameters(调整模型参数)** -- ML algorithms are configured with parameters specific to the underlying algorithm, and the optimal values of these parameters often depends on the type and structure of the data. The value of each parameter, or any of them combined, can have an impact on the performance of the model. 机器学习算法是由特定于底层算法的参数进行配置的，这些参数的优化与数据的类型和结构有关。每个参数的值，或它们任意组合都会影响模型的性能。\n",
    "\n",
    "+ **Selecting a subset of features(特征子集的选取)** -- Many ML problems include a large number of features, and the noise from those features can sometimes make it hard for the algorithm to find the real signal in the data, even though they might still be informative on their own. For many ML problems, having a lot of data is a good thing; but it can sometimes be a curse. And because u don't know before hand when this will affect your model performance, u have to carefully determine the features that make up the most general and accurate model. 许多ML问题包含大量的特征，并且这些特征的噪声有时使得算法很难发现数据的真实信息，即使这些特征本身是非常有用的。数据量大是一件好事，但有时会起反作用。因为事先不可能知道噪声何时会影响模型的性能，所以在确定大多数通用且精确模型的特征时，一定要谨慎。\n",
    "\n",
    "+ **Preprocessing the data(数据预处理)** -- Most real-world datasets aren't in a clean state, and u will have perform cleaning and processing, a process widely referred to as **data munging** or **data wrangling**. The dataset may include names that are spelled differently, although they refer to the same entity, or having missing or incorrect values, and these things can hurt the performance of the model. It may sound like edge cases, but u'll be surprised how often this happens even in sophisticated, data-driven organizations. 实际上数据集不会很单纯，必须进行数据清洗和处理，这个过程被广泛称为数据改写或数据打磨。数据集中可能包含同物异名，缺失或不正确的值，这些都会影响模型的性能。这听起来像边缘情况，但在复杂的数据驱动的组织中，时常发生。\n",
    "\n",
    "---\n",
    "\n",
    "**online learning**\n",
    "\n",
    "大多数传统的机器学习模型是static或者rarely rebuilt(很少重建)。但在大多数情况下，数据和预测结果反馈（flow back into the system）到系统中，并且需要模型随着时间推移和数据的改变进行提升（improve with time and adapt to changes in the data）。"
   ]
  }
 ],
 "metadata": {
  "kernelspec": {
   "display_name": "Python 3",
   "language": "python",
   "name": "python3"
  },
  "language_info": {
   "codemirror_mode": {
    "name": "ipython",
    "version": 3
   },
   "file_extension": ".py",
   "mimetype": "text/x-python",
   "name": "python",
   "nbconvert_exporter": "python",
   "pygments_lexer": "ipython3",
   "version": "3.6.4"
  }
 },
 "nbformat": 4,
 "nbformat_minor": 2
}
