{
 "cells": [
  {
   "cell_type": "markdown",
   "metadata": {},
   "source": [
    "# 树回归"
   ]
  },
  {
   "cell_type": "markdown",
   "metadata": {},
   "source": [
    "**主要内容**\n",
    "> CART算法\n",
    "\n",
    "> 回归树与模型树\n",
    "\n",
    "> 树剪枝算法\n",
    "\n",
    "> Python中GUI的使用"
   ]
  },
  {
   "cell_type": "markdown",
   "metadata": {},
   "source": [
    "线性回归含有一些强大的方法，但这些方法创建的模型需要拟合所有的样本点（局部加权线性回归除外）。当数据拥有众多特征且特征之间关系十分复杂时，构建全局模型的想法就显得困难且笨拙。实际中很多问题都是非线性的，被=不可能使用全局线性模型来拟合任何数据。\n",
    "\n",
    "一种可行的方法是**将数据集切分成很多易于建模的数据，然后利用线性回归技术来建模**。"
   ]
  },
  {
   "cell_type": "markdown",
   "metadata": {},
   "source": [
    "## 1 复杂数据的局部建模"
   ]
  },
  {
   "cell_type": "markdown",
   "metadata": {},
   "source": [
    "**分类与回归树(classification and regression tree, CART)**模型同样由特征选择、树的生成和剪枝组成，既可以用于分类也可用于回归。\n",
    "\n",
    "前面利用决策树来进行分类。决策树不断将数据切分成小数据集，直到所有目标变量完全相同或者数据不能再切分为止。决策树是一种**贪心算法**，要在给定时间内做出最佳选择，但并不关心能否达到全局最优。\n",
    "\n",
    "ID3的做法是每次选取当前最佳的特征来分割数据，并按照该特征的所有可能取值来切分。也就是说，如果一个特征有4个取值，那么数据将被切为4份。一旦按某种特征切分后，该特征在之后的算法执行过程中将不会再起作用，所有有观点认为**这种切分方式过于迅速**。另外一种方法是**二元切分发**，即每次把数据集切成两份。如果数据的某个特征值等于切分所要求的值，那么这些数据就进入树的左子树，反之进入右子树。\n",
    "\n",
    "除切分过于迅速外，ID3还有一个问题，它**不能直接处理连续型特征**。只有事先将连续型数值转换成离散型，才能使用ID3算法。但这种**转换过程会破坏连续型变量的内在性质**。而使用二元切分法则易于对树构建过程进行调整以处理连续性特征。**具体做法**：如果特征值大于给定的给定值就走左子树，否则就走右子树。另外，二元切分法也节省了树的构建时间，这点意义不大，因为这些树的构建一般是离线完成，时间并非重点关注的因素。"
   ]
  },
  {
   "cell_type": "markdown",
   "metadata": {},
   "source": [
    "<span style=\"color:red\">树回归</span>\n",
    "- **优点**：可以对复杂和非线性的数据建模\n",
    "- **缺点**：结果不易理解\n",
    "- **适用数据类型**：数值型和标称型数据"
   ]
  },
  {
   "cell_type": "markdown",
   "metadata": {},
   "source": [
    "<span style=\"color:red\">树回归的一般方法</span>\n",
    "1. 收集数据：采用任意方法\n",
    "2. 准备数据：需要数值型的数据，标称型数据应该映射成二值型数据\n",
    "3. 分析数据：会出数据的二维可视化显示结果，以字典方式生成树\n",
    "4. 训练算法：大部分时间都花在叶节点树模型的构建上\n",
    "5. 测试算法：使用测试数据上的$R^2$值来分析模型结果\n",
    "6. 使用算法：使用训练出的树做预测，预测结果还可以用来做很多事情"
   ]
  },
  {
   "cell_type": "markdown",
   "metadata": {},
   "source": [
    "## 2 CART算法"
   ]
  },
  {
   "cell_type": "markdown",
   "metadata": {},
   "source": [
    "CART是在给定输入随机变量$X$条件下输出随机变量$Y$的条件概率分布的学习方法。CART假设决策树是二叉树，内部节点特征的取值为“是”和“否”，左分支是取值为“是”的分支，右子树是取值为“否”的分支。这样的决策树等价于递归地二分每个特征，将输入空间即特征空间划分为有限个单元，并在这些单元上确定预测的概率分布，也就是在输入给定的条件下输出的条件概率分布。"
   ]
  },
  {
   "cell_type": "markdown",
   "metadata": {},
   "source": [
    "<span style=\"color:red\">CART算法由以下两步组成：</span>\n",
    "1. **决策树的生成**：基于训练数据集生成决策树，生成的决策树要尽量大；\n",
    "2. **决策树剪枝**：用验证数据集对生成的树进行剪枝并选择最优子树，这时用损失函数最小作为剪枝的标准."
   ]
  },
  {
   "cell_type": "markdown",
   "metadata": {},
   "source": [
    "决策树的生成就是递归地构建二叉决策树的过程。对回归树用**平方误差最小化准则**，对分类树用**基尼指数(Gini index)最小化准则**，进行特征先择，生成二叉树。"
   ]
  },
  {
   "cell_type": "markdown",
   "metadata": {},
   "source": [
    "<span style=\"color:red\">回归树的生成</span>"
   ]
  },
  {
   "cell_type": "markdown",
   "metadata": {},
   "source": [
    "假设$X$与$Y$分别作为输入和输出变量，并且$Y$时连续变量，给定训练数据集$$D = \\left\\{(x_1,y_1), (x_2,y_2), \\cdots, (x_N, y_N)\\right\\}$$\n",
    "\n",
    "考虑如何生成回归树。\n",
    "\n",
    "一个回归树对应着输入空间（即特征空间）的一个划分以及在划分的单元上的输出值。假设已将输入空间划分为$M$个单元$R_1, R_, \\cdots, R_M$，并且在每个单元$R_m$上有一个固定的输出值$c_m$，于是回归树的模型可表示为\n",
    "$$f(x) = \\sum_{m=1}^Mc_mI(x\\in R_m)$$\n",
    "\n",
    "当输入空间的划分确定时，可以用**平方误差**$\\sum_{x_i\\in R_m}(y_i-f(x_i))^2$来表示回归树对于训练数据集的预测误差，用平方误差最小的准则求解每个单元上的最优输出值。易知，单元$R_m$上的$\\hat{c_m}$的最优值$m$是$R_m$上的所有输出实例$x_i$对应的输出$y_i$的均值，即\n",
    "$$\\hat{c_m} = ave(y_i|x_i \\in R_m)$$\n",
    "\n",
    "问题是怎么**对输入空间进行划分**。这里**采用启发式的方法**，选择第$j$个变量$x^{(j)}$和它的取值$s$，作为切分变量(splitting variable)和切分点(splitting point)，并定义两个区域：\n",
    "$$R_1(j,s) = \\left\\{x|x^{(j)}\\leq s\\right\\},R_2(j,s) = \\left\\{x|x^{(j)}>s\\right\\}$$\n",
    "\n",
    "然后寻找最优切分变量$j$和最优切分点$s$.具体地，求解：\n",
    "\n",
    "$$min_{j,s}\\left[min_{c_1}\\sum_{x_i\\in R_1(j,s)}(y_i-c_1)^2 + min_{c_2}\\sum_{x_i\\in R_2(j,s)}(y_i-c_2)^2\\right]$$\n",
    "\n",
    "对固定输入变量$j$可以找到最优切分点$s$.\n",
    "$$\\hat{c_1} = ave\\left(y_i|x_i\\in R_1(j,s)\\right),\\hat{c_2} = ave(y_i|x_i\\in R_2(j,s))$$\n",
    "\n",
    "遍历所有输入变量，找到最优地切分变量$j$，构成一个对$(j,s)$.依此将输入空间划分成两个区域。接着，对每个区域重复上述过程，直到满足条件为止。这样生成一棵回归树。这样地回归树通常称为**最小二乘回归树(least squares regression tree)**，算法如下："
   ]
  },
  {
   "cell_type": "markdown",
   "metadata": {},
   "source": [
    "<span style=\"color:red\">最小二乘树算法</span>\n",
    "\n",
    "+ **输入**：训练数据集D\n",
    "+ **输出**：回归树$f(x)$\n",
    "\n",
    "在训练数据集所在的输入空间中，递归地将每个区域划分为两个子区域并决定每个子区域上的输出值，构建二叉决策树：\n",
    "1. 选择最优切分变量$j$和切分点$s$，求解\n",
    "$$min_{j,s}\\left[min_{c_1}\\sum_{x_i\\in R_1(j,s)}(y_i-c_1)^2 + min_{c_2}\\sum_{x_i\\in R_2(j,s)}(y_i-c_2)^2\\right]$$\n",
    "遍历变量$j$，对固定的切分变量$j$扫描切分点$s$，选择使上式达到最小值的对$(j, s)$.\n",
    "2. 用选定的对$(j, s)$划分区域并决定相应的输出值：\n",
    "  $$R_1(j,s) = \\left\\{x|x^{(j)}\\leq s\\right\\}，R_2(j,s) = \\left\\{x|x^{(j)}>s\\right\\}$$\n",
    "  \n",
    "  $$\\hat{c_m} = \\frac{1}{N_m}\\sum_{x_i\\in R_m(j,s)}y_i, x\\in R_m, m=1,2$$\n",
    "3. 继续对两个子区域调用步骤1，2，直到停止条件\n",
    "4. 将输入空间划分为$M$个区域$R_1, R_2, \\cdots, R_M$，生成决策树：\n",
    "$$f(x) = \\sum_{m=1}^M \\hat{c_m}I(x\\in R_m)$$"
   ]
  },
  {
   "cell_type": "markdown",
   "metadata": {},
   "source": [
    "## 3 连续和离散型特征的树的构建（CART算法用于回归）"
   ]
  },
  {
   "cell_type": "markdown",
   "metadata": {
    "collapsed": true
   },
   "source": [
    "这里使用一部字典来存储树的数据结构，该字典包含以下4个元素：\n",
    "> 待切分的特征\n",
    "\n",
    "> 带切分的特征值\n",
    "\n",
    "> 右子树。当不需要切分的时候，也可以是单值\n",
    "\n",
    "> 左子树。与右子树类似"
   ]
  },
  {
   "cell_type": "markdown",
   "metadata": {},
   "source": [
    "    CART算法只做二元切分，所以这里可以固定树的数据结构。树包含左键和右键，可以存储另一棵子树或单个值。字典还包含特征和特征值这两个键，他们给出切分算法所有的特征和特征值。"
   ]
  },
  {
   "cell_type": "markdown",
   "metadata": {},
   "source": [
    "<span style=\"color:red\">函数`createTree()`的伪代码</span>\n",
    "```\n",
    "找到最佳的带切分特征：\n",
    "    如果该节点不能再分，将该节点存为叶节点\n",
    "    执行二元切分\n",
    "    在右子树调用createTree()方法\n",
    "    在左子树调用createTree()方法\n",
    "```"
   ]
  },
  {
   "cell_type": "code",
   "execution_count": 1,
   "metadata": {
    "collapsed": true
   },
   "outputs": [],
   "source": [
    "import numpy as np"
   ]
  },
  {
   "cell_type": "code",
   "execution_count": 2,
   "metadata": {
    "collapsed": true
   },
   "outputs": [],
   "source": [
    "def loadDataSet(fileName):\n",
    "    '''General function to parse tab-delimited floats.\n",
    "    Assume laset colum is target value.\n",
    "    '''\n",
    "    dataMat = []\n",
    "    fr = open(fileName)\n",
    "    for line in fr.readlines():\n",
    "        curLine = line.rstrip().split('\\t')\n",
    "        fltLine = map(float, curLine)  # map all elements to float()\n",
    "        dataMat.append(fltLine)\n",
    "    return np.mat(dataMat)  # np.matrix"
   ]
  },
  {
   "cell_type": "markdown",
   "metadata": {},
   "source": [
    "> 该函数读取一个以tab键为分隔符的文件，然后将每行的内容保存成一组浮点数。"
   ]
  },
  {
   "cell_type": "code",
   "execution_count": 3,
   "metadata": {
    "collapsed": true
   },
   "outputs": [],
   "source": [
    "def binSplitDataSet(dataSet, feature, value):\n",
    "    '''Split dataSet in two subclass according to given feature and value.\n",
    "    Args:\n",
    "        dataSet: data set, arrar_like\n",
    "        feature: split\n",
    "        value: the value of feature to do the split\n",
    "    Returns:\n",
    "        two subclasses\n",
    "    '''\n",
    "    # more than value\n",
    "    mat0 = dataSet[np.nonzero(dataSet[:, feature] > value)[0], :]\n",
    "    # less than or equal to value\n",
    "    mat1 = dataSet[np.nonzero(dataSet[:, feature] <= value)[0], :]\n",
    "    return mat0, mat1"
   ]
  },
  {
   "cell_type": "markdown",
   "metadata": {},
   "source": [
    "> 在给定特征和特征值的情况下，该函数通过数组过滤方式将上述数据集合切分得到两个子集并返回。"
   ]
  },
  {
   "cell_type": "markdown",
   "metadata": {},
   "source": [
    "回归树假设叶节点是常数值，这种策略认为数据中的复杂关系可以用树结构来概括。为成功构建以分段函数为叶节点的树，需要度量出数据的一致性。如何**计算连续性数值的混乱度**呢？首先计算所有数据的均值，然后计算每条数据的值到均值的差值。为了正负差值同等看待，一般使用绝对值或平方值来代替上述差值。这里需要的是平方误差的总值（总方差）。总方差可以通过均方差乘以数据集中样本点的个数来得到。"
   ]
  },
  {
   "cell_type": "code",
   "execution_count": 4,
   "metadata": {
    "collapsed": true
   },
   "outputs": [],
   "source": [
    "def regLeaf(dataSet):\n",
    "    '''Generate leaf node.Returns the value used for each leaf.'''\n",
    "    return np.mean(dataSet[:, -1])"
   ]
  },
  {
   "cell_type": "markdown",
   "metadata": {},
   "source": [
    "> 负责生成叶节点。当chooseBestSplit()函数确定不再对数据进行切分时，将调用该函数来得到叶节点的模型。在回归树中，该模型其实就是目标变量的均值。"
   ]
  },
  {
   "cell_type": "code",
   "execution_count": 5,
   "metadata": {
    "collapsed": true
   },
   "outputs": [],
   "source": [
    "def regErr(dataSet):\n",
    "    '''Calculate the square error of target variable on the given dataset.'''\n",
    "    return np.var(dataSet[:, -1]) * np.shape(dataSet)[0]"
   ]
  },
  {
   "cell_type": "markdown",
   "metadata": {},
   "source": [
    "> 该函数在给定数据集上计算目标变量的平方误差。需要返回的是总方差，所以要用均方差乘以数据集中样本的个数。"
   ]
  },
  {
   "cell_type": "markdown",
   "metadata": {},
   "source": [
    "<span style=\"color:red\">函数`chooseBestSplit()`的伪代码</span>\n",
    "```\n",
    "对每个特征\n",
    "    对每个特征值\n",
    "        将数据集切分成两份\n",
    "        计算切分的误差\n",
    "        如果当前误差小于当前最小误差，那么将当前切分定为最佳切分并更新最小误差\n",
    "返回最佳切分的特征和阈值\n",
    "```"
   ]
  },
  {
   "cell_type": "code",
   "execution_count": 6,
   "metadata": {
    "collapsed": true
   },
   "outputs": [],
   "source": [
    "def chooseBestSplit(dataSet, leafType=regLeaf, errType=regErr, ops=(1, 4)):\n",
    "    '''Find the best feature and value to split dataSet.'''\n",
    "    # parameters pointed by user\n",
    "    tolS = ops[0]  # tolerant error decrease\n",
    "    tolN = ops[1]  # minimun sample size\n",
    "    # if all the target variables are the same value: quit and return value\n",
    "    if len(set(dataSet[:, -1].T.tolist()[0])) == 1:  # exit condition 1\n",
    "        return None, leafType(dataSet)\n",
    "    m, n = np.shape(dataSet)\n",
    "    # the choice of the best feature is driven by\n",
    "    # Reduction in RSS(residual sum of squares) error from mean\n",
    "    S = errType(dataSet)\n",
    "    bestS = np.inf  # error\n",
    "    bestIndex = 0  # the best feature to split\n",
    "    bestValue = 0  # the corresponding value\n",
    "    for featIndex in range(n-1):  # traverse every feature\n",
    "        for splitVal in set(dataSet.A[:, featIndex]):  # every value of feature\n",
    "            mat0, mat1 = binSplitDataSet(dataSet, featIndex, splitVal)  # split\n",
    "            # if the size of some subclass is less than tolN don't do the split\n",
    "            if (mat0.shape[0] < tolN) or (mat1.shape[0] < tolN):\n",
    "                continue  # jump out of this loop\n",
    "            newS = errType(mat0) + errType(mat1)\n",
    "            if newS < bestS:\n",
    "                bestIndex = featIndex\n",
    "                bestValue = splitVal\n",
    "                bestS = newS\n",
    "    # if the decrease (S-bestS) is less than a threshold(tolS)\n",
    "    # don't do the split\n",
    "    if (S - bestS) < tolS:\n",
    "        return None, leafType(dataSet)  # exit condition 2\n",
    "    # split dataSet according to bestIndex and bestValue\n",
    "    mat0, mat1 = binSplitDataSet(dataSet, bestIndex, bestValue)\n",
    "    # if the size of some subclass is less than tolN, don't do the split\n",
    "    # if (mat0.shape[0] < tolN) or (mat1.shape[0] < tolN):  # I think\n",
    "    # return None, leafType  # exit condition 3  # this for-loop is redundant\n",
    "    # returns the best feature to split on and the value used for that split\n",
    "    return bestIndex, bestValue"
   ]
  },
  {
   "cell_type": "markdown",
   "metadata": {},
   "source": [
    "> 构建回归树的核心函数。该函数目的是找到数据的最佳二元切分方式（即切分后能达到最低误差的切分）。如果找不到一个‘好’的二元切分，该函数返回None并同时调用createTree()函数产生叶节点，叶节点的值也将返回None。在函数中有3种情况不会切分（第3种被我注释掉了，因为在for循环中执行了，没必要在循环外再执行一次———我的想法），将直接创建叶节点。如果找到‘好’的切分方式，则返回特征编号和切分特征值。\n",
    "\n",
    "> 函数会统计不同剩余特征值的数目，如果该数目为1， 那么就不需要再切分而直接返回。\n",
    "\n",
    "> ops设定的tolN和tolN，是用户指定的参数，用于控制函数的停止时机。tolS:是容许的误差下降值，即切分数据集后效果提升的不够大，那么就不该进行切分操作而直接创建叶节点。tolN:是切分的最少样本数，即切分后的某个数据子集大小小于用户该值，那么也不应该切分。"
   ]
  },
  {
   "cell_type": "code",
   "execution_count": 7,
   "metadata": {
    "collapsed": true
   },
   "outputs": [],
   "source": [
    "def createTree(dataSet, leafType=regLeaf, errType=regErr, ops=(1, 4)):\n",
    "    '''Assume the dataSet is Numpy so we can array filtering.'''\n",
    "    # choose the best split\n",
    "    feat, val = chooseBestSplit(dataSet, leafType, errType, ops)\n",
    "    # if the splitting hit a stop condition return val\n",
    "    if feat is None:\n",
    "        return val\n",
    "    retTree = {}\n",
    "    retTree['spInd'] = feat\n",
    "    retTree['spVal'] = val\n",
    "    lSet, rSet = binSplitDataSet(dataSet, feat, val)  # split\n",
    "    retTree['left'] = createTree(lSet, leafType, errType, ops)\n",
    "    retTree['right'] = createTree(rSet, leafType, errType, ops)\n",
    "    return retTree"
   ]
  },
  {
   "cell_type": "markdown",
   "metadata": {},
   "source": [
    "> 是一个递归函数。满足停止条件，chooseBestSplit()将返回None和某类模型的值。如果构建的是回归树，该模型是一个常数；如果是模型树，其模型是一个线性方程。不满足递归条件，在切分的数据子集上递归调用createTree()."
   ]
  },
  {
   "cell_type": "code",
   "execution_count": 8,
   "metadata": {},
   "outputs": [
    {
     "data": {
      "text/plain": [
       "{'left': 1.0180967672413792,\n",
       " 'right': -0.044650285714285719,\n",
       " 'spInd': 0,\n",
       " 'spVal': 0.48813000000000001}"
      ]
     },
     "execution_count": 8,
     "metadata": {},
     "output_type": "execute_result"
    }
   ],
   "source": [
    "mydata1 = loadDataSet('ex00.txt')\n",
    "createTree(mydata1)"
   ]
  },
  {
   "cell_type": "code",
   "execution_count": 9,
   "metadata": {},
   "outputs": [
    {
     "data": {
      "text/plain": [
       "{'left': {'left': {'left': 3.9871631999999999,\n",
       "   'right': 2.9836209534883724,\n",
       "   'spInd': 1,\n",
       "   'spVal': 0.79758300000000004},\n",
       "  'right': 1.980035071428571,\n",
       "  'spInd': 1,\n",
       "  'spVal': 0.58200200000000002},\n",
       " 'right': {'left': 1.0289583666666666,\n",
       "  'right': -0.023838155555555553,\n",
       "  'spInd': 1,\n",
       "  'spVal': 0.19783400000000001},\n",
       " 'spInd': 1,\n",
       " 'spVal': 0.39434999999999998}"
      ]
     },
     "execution_count": 9,
     "metadata": {},
     "output_type": "execute_result"
    }
   ],
   "source": [
    "mydata2 = loadDataSet('ex0.txt')\n",
    "createTree(mydata2)"
   ]
  },
  {
   "cell_type": "markdown",
   "metadata": {},
   "source": [
    "回归树的构建已完成，但是需要某种措施来检查构建过程中是否得当。通过**树剪枝(tree pruning)**技术，来通过对决策树剪枝来达到更好的预测效果。"
   ]
  },
  {
   "cell_type": "markdown",
   "metadata": {},
   "source": [
    "## 4 树剪枝"
   ]
  },
  {
   "cell_type": "markdown",
   "metadata": {},
   "source": [
    "决策树生成算法递归地产生决策树，直到不能继续下去为止。这样产生的树往往对训练数据集的分类很准确，对未知数据的测试数据集却没有那么准确，即出现**过拟合**现象。**过拟合的原因**在于学习过多地考虑如何提高对训练数据的正确性，从而构建了复杂的树。解决办法是考虑决策树的复杂度，对以生成的决策树进行简化。\n",
    "\n",
    "通过降低决策树的复杂度来避免过拟合的过程称为**剪枝(pruning)**。具体地讲，剪枝从以生成的树上裁掉一些子树或叶节点，并将其根节点或父节点做为新的叶节点，从而简化分类树模型。\n",
    "\n",
    "在函数`chooseBestSplit()`中提前终止条件，实际上是进行一种所谓的**预剪枝(prepruning)**操作。另一种形式的剪枝需要使用测试集和训练集，称作为**后剪枝(postpruning)**."
   ]
  },
  {
   "cell_type": "markdown",
   "metadata": {},
   "source": [
    "**预剪枝**"
   ]
  },
  {
   "cell_type": "markdown",
   "metadata": {},
   "source": [
    "可以不断修改tolS、tolN来得到合理结果，但这并不是好的办法。事实上，我们常常甚至不确定到底需要寻找什么样的结果。\n",
    "\n",
    "由于后剪枝不需要用户指定参数，后剪枝是一个更理想化的剪枝方法。"
   ]
  },
  {
   "cell_type": "markdown",
   "metadata": {},
   "source": [
    "**后剪枝**"
   ]
  },
  {
   "cell_type": "markdown",
   "metadata": {},
   "source": [
    "使用后剪枝方法需要将数据集分成测试集和训练集。首先指定参数，使得构建出的树足够大、足够复杂，便于剪枝。接下来从上而下找到叶节点，用测试集来判断将这些叶节点合并是否能降低测试误差。如果是的话就合并。"
   ]
  },
  {
   "cell_type": "markdown",
   "metadata": {},
   "source": [
    "<span style=\"color:red\">函数`pruning()`的伪代码</span>\n",
    "```\n",
    "基于已有的树切分测试数据：\n",
    "    如果存在任一子集是一棵树，则在该子集递归剪枝过程\n",
    "    计算将当前两个叶节点合并后的误差\n",
    "    计算不合并的误差\n",
    "    如果合并会降低误差的话，就将叶节点合并\n",
    "```"
   ]
  },
  {
   "cell_type": "code",
   "execution_count": 10,
   "metadata": {
    "collapsed": true
   },
   "outputs": [],
   "source": [
    "def isTree(obj):\n",
    "    '''Test if obj is a tree.\n",
    "    Returns: boolean\n",
    "    '''\n",
    "    return (type(obj).__name__ == 'dict')"
   ]
  },
  {
   "cell_type": "markdown",
   "metadata": {},
   "source": [
    "> 用于测试输入变量是否是一棵树，返回布尔型。即用于判断当前处理的节点是否是叶节点。"
   ]
  },
  {
   "cell_type": "code",
   "execution_count": 11,
   "metadata": {
    "collapsed": true
   },
   "outputs": [],
   "source": [
    "def getMean(tree):\n",
    "    '''Traverse tree until leafs are finded. If finded, calculate the mean.'''\n",
    "    if isTree(tree['left']):\n",
    "        tree['left'] = getMean(tree['left'])\n",
    "    if isTree(tree['right']):\n",
    "        tree['right'] = getMean(tree['right'])\n",
    "    return (tree['left']+tree['right']) / 2.0"
   ]
  },
  {
   "cell_type": "markdown",
   "metadata": {},
   "source": [
    "> 递归函数。从上往下遍历树直到叶节点为止。如果找到两个叶节点则计算它们的平均值。该函数对树进行塌陷处理（即返回树平均值），在pruning()函数中调用该函数时应明确这一点。"
   ]
  },
  {
   "cell_type": "code",
   "execution_count": 12,
   "metadata": {
    "collapsed": true
   },
   "outputs": [],
   "source": [
    "def pruning(tree, testData):\n",
    "    '''Prune tree.\n",
    "    Args:\n",
    "        tree: tree to be pruned\n",
    "        testData: test data set to prune\n",
    "    Returns:\n",
    "        a tree after pruned or mean of tree\n",
    "    '''\n",
    "    if testData.shape[0] == 0:  # if we have no test data collapse the tree\n",
    "        return getMean(tree)\n",
    "    # if the branches are not trees try to prune them\n",
    "    if (isTree(tree['left']) or isTree(tree['right'])):  # have a sub-tree\n",
    "        lSet, rSet = binSplitDataSet(testData, tree['spInd'], tree['spVal'])\n",
    "    if isTree(tree['left']):  # if have a left sub-tree prune it\n",
    "        tree['left'] = pruning(tree['left'], lSet)\n",
    "    if isTree(tree['right']):  # if have a right tree prune it\n",
    "        tree['right'] = pruning(tree['right'], rSet)\n",
    "    # if they are both leafs, see if we can merge them\n",
    "    if not isTree(tree['left']) and not isTree(tree['right']):\n",
    "        lSet, rSet = binSplitDataSet(testData, tree['spInd'], tree['spVal'])\n",
    "        errorNoMerge = np.sum(np.power(lSet[:, -1]-tree['left'], 2)) + \\\n",
    "            np.sum(np.power(rSet[:, -1]-tree['right'], 2))\n",
    "        treeMean = (tree['left']+tree['right']) / 2.0\n",
    "        errorMerge = np.sum(np.power(testData[:, -1]-treeMean, 2))\n",
    "        if errorMerge < errorNoMerge:  # if error decrease merge them\n",
    "            print('Merging!')\n",
    "            return treeMean\n",
    "        else:\n",
    "            return tree\n",
    "    else:\n",
    "        return tree"
   ]
  },
  {
   "cell_type": "markdown",
   "metadata": {},
   "source": [
    "> 参数：待剪枝的树与剪枝所需的测试数据。\n",
    "\n",
    "> 函数首先要确认测试集是否为空。一旦非空，则反复递归调用函数pruning()对测试数据进行切分。 "
   ]
  },
  {
   "cell_type": "code",
   "execution_count": 13,
   "metadata": {
    "collapsed": true
   },
   "outputs": [],
   "source": [
    "mydata3 = loadDataSet('ex2.txt')\n",
    "mytree = createTree(mydata3, ops=(0, 1))"
   ]
  },
  {
   "cell_type": "code",
   "execution_count": 14,
   "metadata": {},
   "outputs": [
    {
     "name": "stdout",
     "output_type": "stream",
     "text": [
      "Merging!\n",
      "Merging!\n",
      "Merging!\n",
      "Merging!\n",
      "Merging!\n",
      "Merging!\n",
      "Merging!\n",
      "Merging!\n",
      "Merging!\n",
      "Merging!\n",
      "Merging!\n",
      "Merging!\n",
      "Merging!\n",
      "Merging!\n",
      "Merging!\n",
      "Merging!\n",
      "Merging!\n",
      "Merging!\n",
      "Merging!\n",
      "Merging!\n",
      "Merging!\n",
      "Merging!\n",
      "Merging!\n",
      "Merging!\n",
      "Merging!\n",
      "Merging!\n",
      "Merging!\n",
      "Merging!\n",
      "Merging!\n",
      "Merging!\n",
      "Merging!\n",
      "Merging!\n",
      "Merging!\n",
      "Merging!\n",
      "Merging!\n",
      "Merging!\n",
      "Merging!\n",
      "Merging!\n",
      "Merging!\n",
      "Merging!\n",
      "Merging!\n",
      "Merging!\n",
      "Merging!\n",
      "Merging!\n"
     ]
    },
    {
     "data": {
      "text/plain": [
       "{'left': {'left': {'left': {'left': 92.523991499999994,\n",
       "    'right': {'left': {'left': {'left': 112.386764,\n",
       "       'right': 123.559747,\n",
       "       'spInd': 0,\n",
       "       'spVal': 0.96039799999999997},\n",
       "      'right': 135.83701300000001,\n",
       "      'spInd': 0,\n",
       "      'spVal': 0.95851200000000003},\n",
       "     'right': 111.2013225,\n",
       "     'spInd': 0,\n",
       "     'spVal': 0.956951},\n",
       "    'spInd': 0,\n",
       "    'spVal': 0.96596899999999997},\n",
       "   'right': {'left': {'left': {'left': {'left': {'left': {'left': {'left': {'left': {'left': {'left': {'left': 96.41885225,\n",
       "              'right': 69.318648999999994,\n",
       "              'spInd': 0,\n",
       "              'spVal': 0.94882200000000005},\n",
       "             'right': {'left': {'left': 110.03503850000001,\n",
       "               'right': {'left': 65.548417999999998,\n",
       "                'right': {'left': 115.75399400000001,\n",
       "                 'right': {'left': {'left': 94.396114499999996,\n",
       "                   'right': 85.005351000000005,\n",
       "                   'spInd': 0,\n",
       "                   'spVal': 0.912161},\n",
       "                  'right': {'left': {'left': 106.814667,\n",
       "                    'right': 118.513475,\n",
       "                    'spInd': 0,\n",
       "                    'spVal': 0.90862900000000002},\n",
       "                   'right': {'left': 87.300624999999997,\n",
       "                    'right': {'left': {'left': 100.133819,\n",
       "                      'right': 108.09493399999999,\n",
       "                      'spInd': 0,\n",
       "                      'spVal': 0.90069900000000003},\n",
       "                     'right': {'left': 82.436685999999995,\n",
       "                      'right': {'left': 98.544549499999988,\n",
       "                       'right': 106.16859550000001,\n",
       "                       'spInd': 0,\n",
       "                       'spVal': 0.87219899999999995},\n",
       "                      'spInd': 0,\n",
       "                      'spVal': 0.88842600000000005},\n",
       "                     'spInd': 0,\n",
       "                     'spVal': 0.89299899999999999},\n",
       "                    'spInd': 0,\n",
       "                    'spVal': 0.90142100000000003},\n",
       "                   'spInd': 0,\n",
       "                   'spVal': 0.90144400000000002},\n",
       "                  'spInd': 0,\n",
       "                  'spVal': 0.91097499999999998},\n",
       "                 'spInd': 0,\n",
       "                 'spVal': 0.92578199999999999},\n",
       "                'spInd': 0,\n",
       "                'spVal': 0.93485300000000005},\n",
       "               'spInd': 0,\n",
       "               'spVal': 0.93652400000000002},\n",
       "              'right': {'left': {'left': 89.20993,\n",
       "                'right': 76.240983999999997,\n",
       "                'spInd': 0,\n",
       "                'spVal': 0.84721900000000006},\n",
       "               'right': 95.893130999999997,\n",
       "               'spInd': 0,\n",
       "               'spVal': 0.84294000000000002},\n",
       "              'spInd': 0,\n",
       "              'spVal': 0.85497000000000001},\n",
       "             'spInd': 0,\n",
       "             'spVal': 0.94422099999999998},\n",
       "            'right': 60.552307999999996,\n",
       "            'spInd': 0,\n",
       "            'spVal': 0.84162499999999996},\n",
       "           'right': 124.87935300000001,\n",
       "           'spInd': 0,\n",
       "           'spVal': 0.84154700000000005},\n",
       "          'right': {'left': 76.723834999999994,\n",
       "           'right': {'left': 59.342323,\n",
       "            'right': 70.054507999999998,\n",
       "            'spInd': 0,\n",
       "            'spVal': 0.81972199999999995},\n",
       "           'spInd': 0,\n",
       "           'spVal': 0.82384800000000002},\n",
       "          'spInd': 0,\n",
       "          'spVal': 0.83302600000000004},\n",
       "         'right': {'left': 118.319942,\n",
       "          'right': {'left': 99.841379000000003,\n",
       "           'right': 112.981216,\n",
       "           'spInd': 0,\n",
       "           'spVal': 0.81136299999999995},\n",
       "          'spInd': 0,\n",
       "          'spVal': 0.81160200000000005},\n",
       "         'spInd': 0,\n",
       "         'spVal': 0.81521500000000002},\n",
       "        'right': 73.494399250000001,\n",
       "        'spInd': 0,\n",
       "        'spVal': 0.80615800000000004},\n",
       "       'right': {'left': 114.4008695,\n",
       "        'right': 102.26514075,\n",
       "        'spInd': 0,\n",
       "        'spVal': 0.78686500000000004},\n",
       "       'spInd': 0,\n",
       "       'spVal': 0.79031200000000001},\n",
       "      'right': 64.041940999999994,\n",
       "      'spInd': 0,\n",
       "      'spVal': 0.76904300000000003},\n",
       "     'right': 115.199195,\n",
       "     'spInd': 0,\n",
       "     'spVal': 0.76332800000000001},\n",
       "    'right': 78.085643250000004,\n",
       "    'spInd': 0,\n",
       "    'spVal': 0.75950399999999996},\n",
       "   'spInd': 0,\n",
       "   'spVal': 0.95283300000000004},\n",
       "  'right': {'left': {'left': {'left': {'left': {'left': {'left': {'left': 110.90282999999999,\n",
       "         'right': {'left': 103.345308,\n",
       "          'right': 108.55391899999999,\n",
       "          'spInd': 0,\n",
       "          'spVal': 0.71023400000000003},\n",
       "         'spInd': 0,\n",
       "         'spVal': 0.71621100000000004},\n",
       "        'right': 135.41676699999999,\n",
       "        'spInd': 0,\n",
       "        'spVal': 0.70889000000000002},\n",
       "       'right': {'left': {'left': {'left': {'left': 106.18042699999999,\n",
       "           'right': 105.062147,\n",
       "           'spInd': 0,\n",
       "           'spVal': 0.70638999999999996},\n",
       "          'right': 115.58660500000001,\n",
       "          'spInd': 0,\n",
       "          'spVal': 0.69987299999999997},\n",
       "         'right': 92.470635999999999,\n",
       "         'spInd': 0,\n",
       "         'spVal': 0.69891999999999999},\n",
       "        'right': {'left': 120.521925,\n",
       "         'right': {'left': 101.91115275,\n",
       "          'right': 112.78136649999999,\n",
       "          'spInd': 0,\n",
       "          'spVal': 0.66645200000000004},\n",
       "         'spInd': 0,\n",
       "         'spVal': 0.68909900000000002},\n",
       "        'spInd': 0,\n",
       "        'spVal': 0.69847199999999998},\n",
       "       'spInd': 0,\n",
       "       'spVal': 0.70696099999999995},\n",
       "      'right': {'left': 121.98060700000001,\n",
       "       'right': {'left': 115.687524,\n",
       "        'right': 112.715799,\n",
       "        'spInd': 0,\n",
       "        'spVal': 0.65246199999999999},\n",
       "       'spInd': 0,\n",
       "       'spVal': 0.66107300000000002},\n",
       "      'spInd': 0,\n",
       "      'spVal': 0.66532899999999995},\n",
       "     'right': 82.500765999999999,\n",
       "     'spInd': 0,\n",
       "     'spVal': 0.64270700000000003},\n",
       "    'right': 140.61394100000001,\n",
       "    'spInd': 0,\n",
       "    'spVal': 0.64237299999999997},\n",
       "   'right': {'left': {'left': {'left': {'left': 82.713621000000003,\n",
       "       'right': {'left': 91.656616999999997,\n",
       "        'right': 93.645292999999995,\n",
       "        'spInd': 0,\n",
       "        'spVal': 0.632691},\n",
       "       'spInd': 0,\n",
       "       'spVal': 0.63799899999999998},\n",
       "      'right': {'left': 117.62834599999999,\n",
       "       'right': 105.970743,\n",
       "       'spInd': 0,\n",
       "       'spVal': 0.62482700000000002},\n",
       "      'spInd': 0,\n",
       "      'spVal': 0.62806099999999998},\n",
       "     'right': 82.04976400000001,\n",
       "     'spInd': 0,\n",
       "     'spVal': 0.62390900000000005},\n",
       "    'right': {'left': 168.180746,\n",
       "     'right': {'left': {'left': {'left': {'left': {'left': {'left': 93.521395999999996,\n",
       "           'right': {'left': 130.37852899999999,\n",
       "            'right': {'left': 111.9849935,\n",
       "             'right': {'left': 82.589327999999995,\n",
       "              'right': {'left': 114.872056,\n",
       "               'right': 108.43539199999999,\n",
       "               'spInd': 0,\n",
       "               'spVal': 0.56932700000000003},\n",
       "              'spInd': 0,\n",
       "              'spVal': 0.571214},\n",
       "             'spInd': 0,\n",
       "             'spVal': 0.58231100000000002},\n",
       "            'spInd': 0,\n",
       "            'spVal': 0.58980600000000005},\n",
       "           'spInd': 0,\n",
       "           'spVal': 0.59914199999999995},\n",
       "          'right': 82.903944999999993,\n",
       "          'spInd': 0,\n",
       "          'spVal': 0.56030100000000005},\n",
       "         'right': 129.06244849999999,\n",
       "         'spInd': 0,\n",
       "         'spVal': 0.55379699999999998},\n",
       "        'right': {'left': 83.114502000000002,\n",
       "         'right': {'left': 97.340526499999996,\n",
       "          'right': 90.995536000000001,\n",
       "          'spInd': 0,\n",
       "          'spVal': 0.53783400000000003},\n",
       "         'spInd': 0,\n",
       "         'spVal': 0.546601},\n",
       "        'spInd': 0,\n",
       "        'spVal': 0.548539},\n",
       "       'right': {'left': {'left': 129.76674299999999,\n",
       "         'right': 124.795495,\n",
       "         'spInd': 0,\n",
       "         'spVal': 0.53194399999999997},\n",
       "        'right': 116.17616200000001,\n",
       "        'spInd': 0,\n",
       "        'spVal': 0.51915},\n",
       "       'spInd': 0,\n",
       "       'spVal': 0.53351099999999996},\n",
       "      'right': {'left': 101.075609,\n",
       "       'right': {'left': 93.292828999999998,\n",
       "        'right': 96.403373000000002,\n",
       "        'spInd': 0,\n",
       "        'spVal': 0.50854200000000005},\n",
       "       'spInd': 0,\n",
       "       'spVal': 0.508548},\n",
       "      'spInd': 0,\n",
       "      'spVal': 0.51333200000000001},\n",
       "     'spInd': 0,\n",
       "     'spVal': 0.60641699999999998},\n",
       "    'spInd': 0,\n",
       "    'spVal': 0.61300399999999999},\n",
       "   'spInd': 0,\n",
       "   'spVal': 0.64051499999999995},\n",
       "  'spInd': 0,\n",
       "  'spVal': 0.72939699999999996},\n",
       " 'right': {'left': {'left': {'left': {'left': {'left': 8.5367700000000006,\n",
       "      'right': 27.729263,\n",
       "      'spInd': 0,\n",
       "      'spVal': 0.48738100000000001},\n",
       "     'right': 5.224234,\n",
       "     'spInd': 0,\n",
       "     'spVal': 0.48380299999999998},\n",
       "    'right': {'left': -9.7129250000000003,\n",
       "     'right': -23.777531,\n",
       "     'spInd': 0,\n",
       "     'spVal': 0.46567999999999998},\n",
       "    'spInd': 0,\n",
       "    'spVal': 0.46738299999999999},\n",
       "   'right': {'left': 30.051931,\n",
       "    'right': 17.171057000000001,\n",
       "    'spInd': 0,\n",
       "    'spVal': 0.46324100000000001},\n",
       "   'spInd': 0,\n",
       "   'spVal': 0.465561},\n",
       "  'right': {'left': -34.044555000000003,\n",
       "   'right': {'left': {'left': {'left': {'left': {'left': -4.1911744999999998,\n",
       "        'right': {'left': {'left': {'left': {'left': 19.745224,\n",
       "            'right': 15.224266,\n",
       "            'spInd': 0,\n",
       "            'spVal': 0.42858200000000002},\n",
       "           'right': -21.594268,\n",
       "           'spInd': 0,\n",
       "           'spVal': 0.42671100000000001},\n",
       "          'right': 44.161493,\n",
       "          'spInd': 0,\n",
       "          'spVal': 0.41894300000000001},\n",
       "         'right': {'left': -26.419288999999999,\n",
       "          'right': 0.63593000000000011,\n",
       "          'spInd': 0,\n",
       "          'spVal': 0.40322799999999998},\n",
       "         'spInd': 0,\n",
       "         'spVal': 0.41251599999999999},\n",
       "        'spInd': 0,\n",
       "        'spVal': 0.43765199999999999},\n",
       "       'right': 23.197474,\n",
       "       'spInd': 0,\n",
       "       'spVal': 0.388789},\n",
       "      'right': {'left': {'left': {'left': -29.007783,\n",
       "         'right': {'left': {'left': 13.583555,\n",
       "           'right': 5.2411960000000004,\n",
       "           'spInd': 0,\n",
       "           'spVal': 0.37738300000000002},\n",
       "          'right': -8.2282969999999995,\n",
       "          'spInd': 0,\n",
       "          'spVal': 0.37350100000000003},\n",
       "         'spInd': 0,\n",
       "         'spVal': 0.378965},\n",
       "        'right': {'left': -32.124495000000003,\n",
       "         'right': {'left': -9.9938275000000001,\n",
       "          'right': -26.851234812500003,\n",
       "          'spInd': 0,\n",
       "          'spVal': 0.35072500000000001},\n",
       "         'spInd': 0,\n",
       "         'spVal': 0.35679},\n",
       "        'spInd': 0,\n",
       "        'spVal': 0.37004199999999998},\n",
       "       'right': {'left': 22.286959625000001,\n",
       "        'right': {'left': {'left': -20.397333499999998,\n",
       "          'right': -49.939515999999998,\n",
       "          'spInd': 0,\n",
       "          'spVal': 0.31095600000000001},\n",
       "         'right': {'left': {'left': {'left': {'left': {'left': {'left': {'left': {'left': {'left': {'left': 8.8147249999999993,\n",
       "                   'right': {'left': -18.051317999999998,\n",
       "                    'right': {'left': -1.7983769999999999,\n",
       "                     'right': {'left': -14.988279,\n",
       "                      'right': -14.391613,\n",
       "                      'spInd': 0,\n",
       "                      'spVal': 0.29074899999999998},\n",
       "                     'spInd': 0,\n",
       "                     'spVal': 0.29599300000000001},\n",
       "                    'spInd': 0,\n",
       "                    'spVal': 0.29710700000000001},\n",
       "                   'spInd': 0,\n",
       "                   'spVal': 0.30031799999999997},\n",
       "                  'right': {'left': 35.623745999999997,\n",
       "                   'right': {'left': -9.4575560000000003,\n",
       "                    'right': {'left': 5.2805790000000004,\n",
       "                     'right': 2.5579230000000002,\n",
       "                     'spInd': 0,\n",
       "                     'spVal': 0.26463900000000001},\n",
       "                    'spInd': 0,\n",
       "                    'spVal': 0.26492599999999999},\n",
       "                   'spInd': 0,\n",
       "                   'spVal': 0.27386300000000002},\n",
       "                  'spInd': 0,\n",
       "                  'spVal': 0.28479399999999999},\n",
       "                 'right': {'left': {'left': -9.601409499999999,\n",
       "                   'right': -30.812912000000001,\n",
       "                   'spInd': 0,\n",
       "                   'spVal': 0.22875100000000001},\n",
       "                  'right': -2.266273,\n",
       "                  'spInd': 0,\n",
       "                  'spVal': 0.228628},\n",
       "                 'spInd': 0,\n",
       "                 'spVal': 0.25807000000000002},\n",
       "                'right': 6.0992389999999999,\n",
       "                'spInd': 0,\n",
       "                'spVal': 0.22847300000000001},\n",
       "               'right': {'left': -16.427370249999999,\n",
       "                'right': -2.6781804999999999,\n",
       "                'spInd': 0,\n",
       "                'spVal': 0.20216100000000001},\n",
       "               'spInd': 0,\n",
       "               'spVal': 0.21163299999999999},\n",
       "              'right': 9.5773855000000001,\n",
       "              'spInd': 0,\n",
       "              'spVal': 0.19328200000000001},\n",
       "             'right': {'left': {'left': {'left': -14.740059,\n",
       "                'right': -6.5125060000000001,\n",
       "                'spInd': 0,\n",
       "                'spVal': 0.166431},\n",
       "               'right': -27.405211000000001,\n",
       "               'spInd': 0,\n",
       "               'spVal': 0.164134},\n",
       "              'right': 0.225886,\n",
       "              'spInd': 0,\n",
       "              'spVal': 0.156273},\n",
       "             'spInd': 0,\n",
       "             'spVal': 0.166765},\n",
       "            'right': {'left': 7.5573490000000003,\n",
       "             'right': 7.3367839999999998,\n",
       "             'spInd': 0,\n",
       "             'spVal': 0.13988},\n",
       "            'spInd': 0,\n",
       "            'spVal': 0.15606700000000001},\n",
       "           'right': -29.087463,\n",
       "           'spInd': 0,\n",
       "           'spVal': 0.13861899999999999},\n",
       "          'right': 22.478290999999999,\n",
       "          'spInd': 0,\n",
       "          'spVal': 0.13183300000000001},\n",
       "         'spInd': 0,\n",
       "         'spVal': 0.30913299999999999},\n",
       "        'spInd': 0,\n",
       "        'spVal': 0.32427400000000001},\n",
       "       'spInd': 0,\n",
       "       'spVal': 0.33518199999999998},\n",
       "      'spInd': 0,\n",
       "      'spVal': 0.38203700000000002},\n",
       "     'right': -39.524461000000002,\n",
       "     'spInd': 0,\n",
       "     'spVal': 0.13062599999999999},\n",
       "    'right': {'left': 22.891674999999999,\n",
       "     'right': {'left': {'left': 6.1965159999999999,\n",
       "       'right': {'left': -16.106164,\n",
       "        'right': {'left': -1.2931950000000001,\n",
       "         'right': -10.137104000000001,\n",
       "         'spInd': 0,\n",
       "         'spVal': 0.085873000000000005},\n",
       "        'spInd': 0,\n",
       "        'spVal': 0.10796},\n",
       "       'spInd': 0,\n",
       "       'spVal': 0.10880099999999999},\n",
       "      'right': {'left': 37.820658999999999,\n",
       "       'right': {'left': -24.132225999999999,\n",
       "        'right': {'left': 15.824970500000001,\n",
       "         'right': {'left': -15.160836,\n",
       "          'right': {'left': {'left': {'left': 6.6955669999999996,\n",
       "             'right': -3.131497,\n",
       "             'spInd': 0,\n",
       "             'spVal': 0.055862000000000002},\n",
       "            'right': -13.731698,\n",
       "            'spInd': 0,\n",
       "            'spVal': 0.053763999999999999},\n",
       "           'right': 4.0916259999999998,\n",
       "           'spInd': 0,\n",
       "           'spVal': 0.044736999999999999},\n",
       "          'spInd': 0,\n",
       "          'spVal': 0.061219000000000003},\n",
       "         'spInd': 0,\n",
       "         'spVal': 0.068373000000000003},\n",
       "        'spInd': 0,\n",
       "        'spVal': 0.080060999999999993},\n",
       "       'spInd': 0,\n",
       "       'spVal': 0.084661},\n",
       "      'spInd': 0,\n",
       "      'spVal': 0.085111000000000006},\n",
       "     'spInd': 0,\n",
       "     'spVal': 0.124723},\n",
       "    'spInd': 0,\n",
       "    'spVal': 0.126833},\n",
       "   'spInd': 0,\n",
       "   'spVal': 0.45576100000000003},\n",
       "  'spInd': 0,\n",
       "  'spVal': 0.457563},\n",
       " 'spInd': 0,\n",
       " 'spVal': 0.49917099999999998}"
      ]
     },
     "execution_count": 14,
     "metadata": {},
     "output_type": "execute_result"
    }
   ],
   "source": [
    "mytestdata = loadDataSet('ex2test.txt')\n",
    "pruning(mytree, mytestdata)"
   ]
  },
  {
   "cell_type": "markdown",
   "metadata": {},
   "source": [
    "一般地，为了寻求最佳模型可以同时使用两种剪枝技术。"
   ]
  },
  {
   "cell_type": "markdown",
   "metadata": {},
   "source": [
    "## 5 模型树"
   ]
  },
  {
   "cell_type": "markdown",
   "metadata": {},
   "source": [
    "用树来对数据建模，除了把叶节点简单地为常数值为，还有一种方法是把**叶节点**设定为**分段线性函数**。这里所谓的**分段线性(piecewise linear)**)是指模型由多个线性片组成。"
   ]
  },
  {
   "cell_type": "code",
   "execution_count": 15,
   "metadata": {
    "collapsed": true
   },
   "outputs": [],
   "source": [
    "import matplotlib.pyplot as plt\n",
    "import numpy as np\n",
    "%matplotlib inline\n",
    "\n",
    "\n",
    "def pltData():\n",
    "    data = []\n",
    "    fr = open('exp2.txt')\n",
    "    for line in fr.readlines():\n",
    "        curLine = line.rstrip().split('\\t')\n",
    "        fltLine = map(float, curLine)\n",
    "        data.append(fltLine)\n",
    "    data = np.array(data)\n",
    "    plt.scatter(data[:, 0], data[:, 1])"
   ]
  },
  {
   "cell_type": "markdown",
   "metadata": {},
   "source": [
    "> 数据集exp2.txt"
   ]
  },
  {
   "cell_type": "code",
   "execution_count": 16,
   "metadata": {},
   "outputs": [
    {
     "data": {
      "image/png": "[encoded data removed]",
      "text/plain": [
       "<matplotlib.figure.Figure at 0x6425d68>"
      ]
     },
     "metadata": {},
     "output_type": "display_data"
    }
   ],
   "source": [
    "pltData()"
   ]
  },
  {
   "cell_type": "markdown",
   "metadata": {},
   "source": [
    "> 上图可以用两个线性模型建模。"
   ]
  },
  {
   "cell_type": "markdown",
   "metadata": {},
   "source": [
    "对前面的代码略作修改即可。算法的关键在于误差的计算。对于给定的数据集，应该先用线性的模型来对它进行拟合，然后计算真实的目标值与模型预测值间的差值。然后将这些差值的平方求和就得到了所需的误差。"
   ]
  },
  {
   "cell_type": "code",
   "execution_count": 17,
   "metadata": {
    "collapsed": true
   },
   "outputs": [],
   "source": [
    "def linearSolve(dataSet):\n",
    "    '''Process data set to target variable Y and independent variable X.'''\n",
    "    m, n = dataSet.shape\n",
    "    X = np.mat(np.ones((m, n)))\n",
    "    Y = np.mat(np.ones((m, 1)))\n",
    "    X[:, 1:n] = dataSet[:, 0:n-1]  # independent variable\n",
    "    Y = dataSet[:, -1]  # target variable\n",
    "    xTx = X.T * X\n",
    "    if np.linalg.det(xTx) == 0.0:\n",
    "        raise NameError(\"This matrix is singular, cannot do inverse, \\n\\\n",
    "                        try in creasing the second value of ops\")\n",
    "    ws = xTx.I * (X.T * Y)  # linear regression weights\n",
    "    return ws, X, Y\n",
    "\n",
    "\n",
    "def modelLeaf(dataSet):\n",
    "    '''Generate model of leaf when don not need to split data set.'''\n",
    "    ws, X, Y = linearSolve(dataSet)\n",
    "    return ws\n",
    "\n",
    "\n",
    "def modelErr(dataSet):\n",
    "    '''Calculate the square error of given data set.'''\n",
    "    ws, X, Y = linearSolve(dataSet)\n",
    "    yHat = X * ws\n",
    "    return np.sum(np.power(yHat - Y, 2))"
   ]
  },
  {
   "cell_type": "markdown",
   "metadata": {},
   "source": [
    "> 第一个函数将数据集格式化成目标变量Y和自变量X。X和Y用于执行简单的线性回归。\n",
    "\n",
    "> 第二个函数与函数regLeaf()类似，当数据不需要切分的时候它负责生成叶节点的模型。该函数在数据集上调用linearSolve()并返回回归系数ws。\n",
    "\n",
    "> 第三个函数在给定数据集上计算误差。"
   ]
  },
  {
   "cell_type": "code",
   "execution_count": 18,
   "metadata": {},
   "outputs": [
    {
     "data": {
      "text/plain": [
       "{'left': matrix([[  1.69855694e-03],\n",
       "         [  1.19647739e+01]]), 'right': matrix([[ 3.46877936],\n",
       "         [ 1.18521743]]), 'spInd': 0, 'spVal': 0.28547699999999998}"
      ]
     },
     "execution_count": 18,
     "metadata": {},
     "output_type": "execute_result"
    }
   ],
   "source": [
    "mydata4 = loadDataSet('exp2.txt')\n",
    "createTree(mydata4, modelLeaf, modelErr, (1, 10))"
   ]
  },
  {
   "cell_type": "markdown",
   "metadata": {},
   "source": [
    "生成的两个线性模型分别是$y=3.468+1.1852x$和$y=0.0016985+11.96477x$."
   ]
  },
  {
   "cell_type": "code",
   "execution_count": 19,
   "metadata": {},
   "outputs": [
    {
     "data": {
      "text/plain": [
       "[<matplotlib.lines.Line2D at 0x82e4518>,\n",
       " <matplotlib.lines.Line2D at 0x838a9b0>]"
      ]
     },
     "execution_count": 19,
     "metadata": {},
     "output_type": "execute_result"
    },
    {
     "data": {
      "image/png": "[encoded data removed]",
      "text/plain": [
       "<matplotlib.figure.Figure at 0x82e4240>"
      ]
     },
     "metadata": {},
     "output_type": "display_data"
    }
   ],
   "source": [
    "data = []\n",
    "fr = open('exp2.txt')\n",
    "for line in fr.readlines():\n",
    "    curLine = line.rstrip().split('\\t')\n",
    "    fltLine = map(float, curLine)\n",
    "    data.append(fltLine)\n",
    "data = np.array(data)\n",
    "plt.scatter(data[:, 0], data[:, 1])\n",
    "x = np.linspace(0, 0.3)\n",
    "y = np.linspace(0.3, 1.0)\n",
    "plt.plot(x, 3.468+1.1852*x, 'r', y, 0.0016985+11.96477*y, 'r')"
   ]
  },
  {
   "cell_type": "markdown",
   "metadata": {},
   "source": [
    "## 6 示例：树回归与标准回归的比较"
   ]
  },
  {
   "cell_type": "code",
   "execution_count": 20,
   "metadata": {
    "collapsed": true
   },
   "outputs": [],
   "source": [
    "# use tree regression to forecast\n",
    "def regTreeEval(model, inData):  # regression tree\n",
    "    return float(model)\n",
    "\n",
    "\n",
    "def modelTreeEval(model, inData):  # model tree\n",
    "    n = inData.shape[1]\n",
    "    X = np.mat(np.ones((1, n+1)))\n",
    "    X[:, 1:n+1] = inData\n",
    "    return float(X*model)\n",
    "\n",
    "\n",
    "def treeForecast(tree, inData, modelEval=regTreeEval):\n",
    "    '''Forecast.\n",
    "    Args:\n",
    "        tree: tree\n",
    "            got by createTree()\n",
    "        inData: single data(a vector)\n",
    "            value to forecast\n",
    "        modelEval: regTreeEval, modelTreeEval, optional\n",
    "            the kind of tree\n",
    "    Returns:\n",
    "        a scalar, forecasting tree\n",
    "    '''\n",
    "    if not isTree(tree):  # only root node\n",
    "        return modelEval(tree, inData)\n",
    "    if inData[tree['spInd']] > tree['spVal']:\n",
    "        if isTree(tree['left']):\n",
    "            return treeForecast(tree['left'], inData, modelEval)\n",
    "        else:\n",
    "            return modelEval(tree['left'], inData)\n",
    "    else:\n",
    "        if isTree(tree['right']):\n",
    "            return treeForecast(tree['right'], inData, modelEval)\n",
    "        else:\n",
    "            return modelEval(tree['right'], inData)\n",
    "\n",
    "\n",
    "def createForecast(tree, testData, modelEval=regTreeEval):\n",
    "    '''Returns vector(forecasting value).'''\n",
    "    m = len(testData)\n",
    "    yHat = np.mat(np.zeros((m, 1)))\n",
    "    for i in range(m):\n",
    "        yHat[i, 0] = treeForecast(tree, np.mat(testData[i]), modelEval)\n",
    "    return yHat"
   ]
  },
  {
   "cell_type": "markdown",
   "metadata": {},
   "source": [
    "> 对于单个的数据点或行向量，函数treeForecast()会返回一个浮点值。在给定树的情况下，对于单个数据点，该函数会给出一个预测值。\n",
    "\n",
    ">调用函数treeForecast()时需要指定树的类型，以便在叶节点上能够调用合适的模型。\n",
    "\n",
    ">回归树节点进行预测，就调用函数regTreeEval()；要对模型树节点进行预测，就调用modelTreeEval()。它们会对输入数据进行格式化处理，在原始数据矩阵上增加第0列，然后计算并返回预测值。\n",
    "\n",
    ">最后一个函数，会多次调用treeForecast()。能够以向量形式返回一组预测值，在对整个测试集进行预测时非常有用。"
   ]
  },
  {
   "cell_type": "markdown",
   "metadata": {},
   "source": [
    "进行比较"
   ]
  },
  {
   "cell_type": "code",
   "execution_count": 21,
   "metadata": {
    "collapsed": true
   },
   "outputs": [],
   "source": [
    "def test():\n",
    "    trainMat = loadDataSet('bikeSpeedVsIq_train.txt')  # training set\n",
    "    testMat = loadDataSet('bikeSpeedVsIq_test.txt')    # testing set\n",
    "    # create a regression tree\n",
    "    myRegTree = createTree(trainMat, ops=(1, 20))\n",
    "    yRegHat = createForecast(myRegTree, testMat[:, 0])\n",
    "    print(np.corrcoef(yRegHat, testMat[:, 1], rowvar=0)[0, 1])\n",
    "    # create a model tree\n",
    "    myModTree = createTree(trainMat, modelLeaf, modelErr, ops=(1, 20))\n",
    "    yModHat = createForecast(myModTree, testMat[:, 0], modelTreeEval)\n",
    "    print(np.corrcoef(yModHat, testMat[:, 1], rowvar=0)[0, 1])\n",
    "    # standard line regression\n",
    "    ws, X, Y = linearSolve(trainMat)\n",
    "    yHat = np.mat(np.zeros((len(testMat), 1)))\n",
    "    for i in range(testMat.shape[0]):\n",
    "        yHat[i] = testMat[i, 0]*ws[1, 0] + ws[0, 0]\n",
    "    print(np.corrcoef(yHat, testMat[:, 1], rowvar=0)[0, 1])"
   ]
  },
  {
   "cell_type": "code",
   "execution_count": 22,
   "metadata": {},
   "outputs": [
    {
     "name": "stdout",
     "output_type": "stream",
     "text": [
      "0.964085231822\n",
      "0.976041219138\n",
      "0.943468423567\n"
     ]
    }
   ],
   "source": [
    "test()"
   ]
  },
  {
   "cell_type": "markdown",
   "metadata": {},
   "source": [
    "比较哪种模型更好，一个客观的方法是计算相关系数($R^2$)，越接近1.0越好。\n",
    "可以看出树回归方法在预测复杂数据时会比简单的线性模型更有效。"
   ]
  }
 ],
 "metadata": {
  "kernelspec": {
   "display_name": "Python 2",
   "language": "python",
   "name": "python2"
  },
  "language_info": {
   "codemirror_mode": {
    "name": "ipython",
    "version": 2
   },
   "file_extension": ".py",
   "mimetype": "text/x-python",
   "name": "python",
   "nbconvert_exporter": "python",
   "pygments_lexer": "ipython2",
   "version": "2.7.13"
  }
 },
 "nbformat": 4,
 "nbformat_minor": 2
}
